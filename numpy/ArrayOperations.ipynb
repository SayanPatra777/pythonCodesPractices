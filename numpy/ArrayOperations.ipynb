{
 "cells": [
  {
   "cell_type": "markdown",
   "id": "cd9961ff",
   "metadata": {},
   "source": [
    "# Array Operations"
   ]
  },
  {
   "cell_type": "code",
   "execution_count": 4,
   "id": "45f6177b",
   "metadata": {},
   "outputs": [
    {
     "name": "stdout",
     "output_type": "stream",
     "text": [
      "[ 0  1  2  3  4  5  6  7  8  9 10]\n",
      "basic Slicing:  [2 3 4 5]\n",
      "or Slicing:  [2 4]\n",
      "or Slicing:  [9 7]\n"
     ]
    }
   ],
   "source": [
    "import numpy as np\n",
    "arr=np.arange(11)\n",
    "print(arr)\n",
    "print(\"basic Slicing: \",arr[2:6])\n",
    "print(\"or Slicing: \",arr[2:6:2])\n",
    "print(\"or Slicing: \",arr[-2:-6:-2])\n"
   ]
  },
  {
   "cell_type": "markdown",
   "id": "7a57391c",
   "metadata": {},
   "source": [
    "# 2D Array Slicing"
   ]
  },
  {
   "cell_type": "code",
   "execution_count": 5,
   "id": "2e0347ec",
   "metadata": {},
   "outputs": [
    {
     "name": "stdout",
     "output_type": "stream",
     "text": [
      "5\n",
      "Entire row:\n",
      " [4 5 6]\n",
      "Entire colomn:\n",
      " [2 5 8]\n"
     ]
    }
   ],
   "source": [
    "arr2D=np.array([[1,2,3],\n",
    "                [4,5,6],\n",
    "                [7,8,9]])\n",
    "print(arr2D[1][1])\n",
    "print(\"Entire row:\\n\",arr2D[1])\n",
    "print(\"Entire colomn:\\n\",arr2D[:,1])"
   ]
  },
  {
   "cell_type": "code",
   "execution_count": 45,
   "id": "5f6ea745",
   "metadata": {},
   "outputs": [
    {
     "name": "stdout",
     "output_type": "stream",
     "text": [
      "8\n"
     ]
    }
   ],
   "source": [
    "# numb=3\n",
    "# total=\"\"\n",
    "# while numb:\n",
    "#     rem=numb%2\n",
    "#     total+=str(rem)\n",
    "#     numb//=2\n",
    "# print(int(total[::-1]))   // decimal to binary\n",
    "\n",
    "\n",
    "# hollow Squre\n",
    "\n",
    "# rows=6\n",
    "# for i in range(rows):\n",
    "#     if not i or i==rows-1:\n",
    "#         print(\"*\"*rows,end=\"\")\n",
    "#     else:\n",
    "#         print(\"*\",end=\"\")\n",
    "#         print(\" \"*(rows-2),end=\"\")\n",
    "#         print(\"*\",end=\"\")\n",
    "#     print()\n",
    "\n",
    "\n",
    "# binNum=10101110011\n",
    "# temp=binNum\n",
    "# i,sumnum=0,0\n",
    "# while binNum:\n",
    "#     rem=binNum%10\n",
    "#     sumnum+=(rem*pow(2,i))\n",
    "#     i+=1\n",
    "#     binNum//=10\n",
    "# print(f\"Demical form of binary number {temp} is: {sumnum}\")\n",
    "\n",
    "nthTerm=7\n",
    "\n",
    "def fibo(nthTerm):\n",
    "    # storageFibo={1:0,\n",
    "    #              2:1}\n",
    "    # if nthTerm in storageFibo:\n",
    "    #     return storageFibo[nthTerm]\n",
    "    # else:\n",
    "    #     pass\n",
    "    if nthTerm==1:\n",
    "        return 0\n",
    "    elif nthTerm==2:\n",
    "        return 1\n",
    "    else:\n",
    "        return fibo(nthTerm-1)+fibo(nthTerm-2)\n",
    "print(fibo(nthTerm))"
   ]
  }
 ],
 "metadata": {
  "kernelspec": {
   "display_name": "base",
   "language": "python",
   "name": "python3"
  },
  "language_info": {
   "codemirror_mode": {
    "name": "ipython",
    "version": 3
   },
   "file_extension": ".py",
   "mimetype": "text/x-python",
   "name": "python",
   "nbconvert_exporter": "python",
   "pygments_lexer": "ipython3",
   "version": "3.12.3"
  }
 },
 "nbformat": 4,
 "nbformat_minor": 5
}
