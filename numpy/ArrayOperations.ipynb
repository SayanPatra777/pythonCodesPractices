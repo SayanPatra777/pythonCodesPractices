{
 "cells": [
  {
   "cell_type": "markdown",
   "id": "cd9961ff",
   "metadata": {},
   "source": [
    "# Array Operations"
   ]
  },
  {
   "cell_type": "code",
   "execution_count": null,
   "id": "45f6177b",
   "metadata": {},
   "outputs": [
    {
     "name": "stdout",
     "output_type": "stream",
     "text": [
      "[ 0  1  2  3  4  5  6  7  8  9 10]\n",
      "basic Slicing:  [2 3 4 5]\n",
      "or Slicing:  [2 4]\n",
      "or Slicing:  [9 7]\n"
     ]
    }
   ],
   "source": [
    "import numpy as np\n",
    "arr=np.arange(11)\n",
    "print(arr)\n",
    "print(\"basic Slicing: \",arr[2:6])\n",
    "print(\"or Slicing: \",arr[2:6:2])\n",
    "print(\"or Slicing: \",arr[-2:-6:-2])\n"
   ]
  },
  {
   "cell_type": "code",
   "execution_count": null,
   "id": "039a06dd",
   "metadata": {},
   "outputs": [],
   "source": []
  },
  {
   "cell_type": "markdown",
   "id": "7a57391c",
   "metadata": {},
   "source": [
    "# 2D Array Slicing"
   ]
  },
  {
   "cell_type": "code",
   "execution_count": null,
   "id": "2e0347ec",
   "metadata": {},
   "outputs": [
    {
     "name": "stdout",
     "output_type": "stream",
     "text": [
      "5\n",
      "Entire row:\n",
      " [4 5 6]\n",
      "Entire colomn:\n",
      " [2 5 8]\n"
     ]
    }
   ],
   "source": [
    "arr2D=np.array([[1,2,3],\n",
    "                [4,5,6],\n",
    "                [7,8,9]])\n",
    "print(arr2D[1][1])\n",
    "print(\"Entire row:\\n\",arr2D[1])\n",
    "print(\"Entire colomn:\\n\",arr2D[:,1]) # : for all rows & ,1 for 1st column"
   ]
  },
  {
   "cell_type": "markdown",
   "id": "aebd1b84",
   "metadata": {},
   "source": [
    "# Sorting \n"
   ]
  },
  {
   "cell_type": "code",
   "execution_count": null,
   "id": "00bffe39",
   "metadata": {},
   "outputs": [],
   "source": [
    "unsortedArr=np"
   ]
  }
 ],
 "metadata": {
  "kernelspec": {
   "display_name": "base",
   "language": "python",
   "name": "python3"
  },
  "language_info": {
   "codemirror_mode": {
    "name": "ipython",
    "version": 3
   },
   "file_extension": ".py",
   "mimetype": "text/x-python",
   "name": "python",
   "nbconvert_exporter": "python",
   "pygments_lexer": "ipython3",
   "version": "3.12.3"
  }
 },
 "nbformat": 4,
 "nbformat_minor": 5
}
