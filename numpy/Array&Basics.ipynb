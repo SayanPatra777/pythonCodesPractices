{
 "cells": [
  {
   "cell_type": "markdown",
   "id": "e30dd681",
   "metadata": {},
   "source": [
    "Shift + enter to generate new markdown\n",
    " where as CTRL + enter to escape from a markdown\n",
    "and we use for new code line \n",
    "Use # then write to make markdowns big like below number of # == bigger lines"
   ]
  },
  {
   "cell_type": "markdown",
   "id": "f0715ef6",
   "metadata": {},
   "source": [
    "## NUMPY array & basics"
   ]
  },
  {
   "cell_type": "code",
   "execution_count": 1,
   "id": "26021c9d",
   "metadata": {},
   "outputs": [],
   "source": [
    "import numpy as np\n"
   ]
  },
  {
   "cell_type": "markdown",
   "id": "5d4b34d1",
   "metadata": {},
   "source": [
    "## Creating Array from list"
   ]
  },
  {
   "cell_type": "code",
   "execution_count": 4,
   "id": "43dfa34b",
   "metadata": {},
   "outputs": [
    {
     "name": "stdout",
     "output_type": "stream",
     "text": [
      "1D Array is: [1 2 3 4 5]\n",
      "2D array is: \n",
      " [[1 2 3]\n",
      " [4 5 6]]\n"
     ]
    }
   ],
   "source": [
    "arr1D=np.array([1, 2, 3, 4, 5])\n",
    "print(\"1D Array is:\", arr1D)\n",
    "\n",
    "# array only supports Similar data types by defination \n",
    "\n",
    "arr2D=np.array([[1,2,3],[4,5,6]])\n",
    "print(\"2D array is: \\n\", arr2D)"
   ]
  },
  {
   "cell_type": "markdown",
   "id": "5a6c4bcf",
   "metadata": {},
   "source": [
    "## List Vs Arrays\n"
   ]
  },
  {
   "cell_type": "code",
   "execution_count": 7,
   "id": "c81c5a1e",
   "metadata": {},
   "outputs": [
    {
     "name": "stdout",
     "output_type": "stream",
     "text": [
      "list Multiply ny 2:  [1, 2, 3, 4, 1, 2, 3, 4]\n",
      "Array Multiply ny 2:  [2 4 6 8]\n"
     ]
    }
   ],
   "source": [
    "myList=[1,2,3,4]\n",
    "myArr=np.array([1,2,3,4])\n",
    "\n",
    "print(\"list Multiply ny 2: \", myList*2)\n",
    "print(\"Array Multiply ny 2: \", myArr*2)"
   ]
  },
  {
   "cell_type": "markdown",
   "id": "62571922",
   "metadata": {},
   "source": [
    "# Creating Array from Scratch"
   ]
  },
  {
   "cell_type": "code",
   "execution_count": 22,
   "id": "7051dc2f",
   "metadata": {},
   "outputs": [
    {
     "name": "stdout",
     "output_type": "stream",
     "text": [
      "[[0. 0. 0. 0. 0.]\n",
      " [0. 0. 0. 0. 0.]\n",
      " [0. 0. 0. 0. 0.]\n",
      " [0. 0. 0. 0. 0.]]\n",
      "\n",
      "\n",
      "[[1. 1. 1. 1. 1.]\n",
      " [1. 1. 1. 1. 1.]\n",
      " [1. 1. 1. 1. 1.]]\n",
      "\n",
      "\n",
      "[[7 7]\n",
      " [7 7]]\n",
      "[[0.84920989 0.77168985 0.03419943 0.36761051]\n",
      " [0.96798655 0.58805497 0.7124008  0.18396884]]\n",
      "[ 1  3  5  7  9 11]\n"
     ]
    }
   ],
   "source": [
    "#  Zeros is used to print 0 marrix values inside () denotes the row & colomns\n",
    "zeroMatrix=np.zeros((4,5))\n",
    "print(zeroMatrix)\n",
    "print()\n",
    "print()   \n",
    "\n",
    "onesArray=np.ones((3,5))\n",
    "print(onesArray)\n",
    "print()\n",
    "print()  \n",
    "fullArray=np.full((2,2),7 ) # makes a (_*_) matrices with the valu ouside tuple  \n",
    "print(fullArray)\n",
    "\n",
    "print(np.random.random((2,4))) # put random values in side a (_ * _) matrix (vales are usually in 0-1) \n",
    "\n",
    "sequenceArr=np.arange(1,12,2)\n",
    "print(sequenceArr)"
   ]
  },
  {
   "cell_type": "markdown",
   "id": "86469d55",
   "metadata": {},
   "source": [
    "## Vector, Matrix and Tensor\n"
   ]
  },
  {
   "cell_type": "code",
   "execution_count": 25,
   "id": "639125c1",
   "metadata": {},
   "outputs": [
    {
     "name": "stdout",
     "output_type": "stream",
     "text": [
      "Vector:  [1 2 3]\n",
      "Matrix: \n",
      " [[1 2 3]\n",
      " [4 5 6]]\n",
      "Tensor: \n",
      " [[[1 2]\n",
      "  [3 4]]\n",
      "\n",
      " [[5 6]\n",
      "  [7 8]]]\n"
     ]
    }
   ],
   "source": [
    "vector=np.array([1,2,3])  # vectors are usually 1D arrays\n",
    "matrix=np.array([[1,2,3]\n",
    "                 ,[4,5,6]]) # # matrix is 2D array\n",
    "tensor=np.array([[[1,2]\n",
    "                  ,[3,4]]\n",
    "                 ,[[5,6],\n",
    "                   [7,8]]]) # tensor is 3D array\n",
    "\n",
    "print(\"Vector: \", vector)\n",
    "print(\"Matrix: \\n\", matrix)\n",
    "print(\"Tensor: \\n\", tensor)"
   ]
  },
  {
   "cell_type": "markdown",
   "id": "fb772937",
   "metadata": {},
   "source": [
    "# array Properties\n"
   ]
  },
  {
   "cell_type": "code",
   "execution_count": 28,
   "id": "249fd535",
   "metadata": {},
   "outputs": [
    {
     "name": "stdout",
     "output_type": "stream",
     "text": [
      "Array 2D shape:  (2, 3)\n",
      "Array 2D size:  6\n",
      "Array 2D dtype:  int32\n",
      "Array 2D Dimention :  2\n"
     ]
    }
   ],
   "source": [
    "Arr2Dim=np.array([[1,2,3],\n",
    "                  [4,5,6]])\n",
    "\n",
    "print(\"Array 2D shape: \", Arr2Dim.shape)  # gives the shape of the array\n",
    "print(\"Array 2D size: \", Arr2Dim.size)    # gives the size of the array\n",
    "print(\"Array 2D dtype: \", Arr2Dim.dtype)  # gives the data type of the array\n",
    "print(\"Array 2D Dimention : \", Arr2Dim.ndim)  # gives the Dimention of the array\n"
   ]
  },
  {
   "cell_type": "markdown",
   "id": "a6b23dd2",
   "metadata": {},
   "source": [
    "## Array Reshaping\n"
   ]
  },
  {
   "cell_type": "code",
   "execution_count": null,
   "id": "a73e36df",
   "metadata": {},
   "outputs": [
    {
     "name": "stdout",
     "output_type": "stream",
     "text": [
      "Array is :  [ 0  1  2  3  4  5  6  7  8  9 10 11 12 13 14]\n",
      "Reshaped Array is : \n",
      " [[ 0  1  2  3  4]\n",
      " [ 5  6  7  8  9]\n",
      " [10 11 12 13 14]]\n",
      "Flattened Array is :  [ 0  1  2  3  4  5  6  7  8  9 10 11 12 13 14]\n",
      "Raveled Array is :  [ 0  1  2  3  4  5  6  7  8  9 10 11 12 13 14]\n",
      "Transposed Array is : \n",
      " [[ 0  5 10]\n",
      " [ 1  6 11]\n",
      " [ 2  7 12]\n",
      " [ 3  8 13]\n",
      " [ 4  9 14]]\n"
     ]
    }
   ],
   "source": [
    "arr=np.arange(15)\n",
    "print(\"Array is : \", arr)\n",
    "\n",
    "reshapedArr=arr.reshape ([3,5])  # reshaping the array to 3 rows and 5 column\n",
    "print(\"Reshaped Array is : \\n\", reshapedArr)\n",
    "\n",
    "flattenedArr=reshapedArr.flatten()  # flattening the array to 1D\n",
    "print(\"Flattened Array is : \", flattenedArr)\n",
    "\n",
    "# ravel returns view not copy of the array\n",
    "reveled=reshapedArr.ravel()  # raveling the array to 1D\n",
    "print(\"Raveled Array is : \", reveled)\n",
    "\n",
    "# transpose mattrix: it is used to swap the rows and columns of the array so that the rows become columns and columns become rows\n",
    "transposedArr=reshapedArr.T  # transposing the array\n",
    "print(\"Transposed Array is : \\n\", transposedArr)"
   ]
  },
  {
   "cell_type": "code",
   "execution_count": null,
   "id": "8858bddd",
   "metadata": {},
   "outputs": [
    {
     "name": "stdout",
     "output_type": "stream",
     "text": [
      "[ 1  2  3  4  5  6  7  8  9 10 11 12 13 14]\n"
     ]
    }
   ],
   "source": []
  }
 ],
 "metadata": {
  "kernelspec": {
   "display_name": "base",
   "language": "python",
   "name": "python3"
  },
  "language_info": {
   "codemirror_mode": {
    "name": "ipython",
    "version": 3
   },
   "file_extension": ".py",
   "mimetype": "text/x-python",
   "name": "python",
   "nbconvert_exporter": "python",
   "pygments_lexer": "ipython3",
   "version": "3.12.3"
  }
 },
 "nbformat": 4,
 "nbformat_minor": 5
}
